{
 "cells": [
  {
   "cell_type": "code",
   "execution_count": 10,
   "metadata": {},
   "outputs": [],
   "source": [
    "import numpy as np\n",
    "import time\n",
    "\n",
    "def standard_matrix_multiply(A, B):\n",
    "    return np.dot(A, B)\n",
    "\n",
    "def strassen_matrix_multiply(A, B):\n",
    "    n = A.shape[0]\n",
    "    if n <= 128:  # Base case for the standard matrix multiplication\n",
    "        return standard_matrix_multiply(A, B)\n",
    "\n",
    "    # Adjust matrix dimensions to ensure even division\n",
    "    m = n // 4\n",
    "    n_adjusted = m * 4\n",
    "    A_adjusted = A[:n_adjusted, :n_adjusted]\n",
    "    B_adjusted = B[:n_adjusted, :n_adjusted]\n",
    "\n",
    "    # Partition matrices into submatrices\n",
    "    A_sub = np.array([[A_adjusted[i*m:(i+1)*m, j*m:(j+1)*m] for j in range(4)] for i in range(4)])\n",
    "    B_sub = np.array([[B_adjusted[i*m:(i+1)*m, j*m:(j+1)*m] for j in range(4)] for i in range(4)])\n",
    "\n",
    "    # Compute intermediate matrices using Strassen's formula\n",
    "    P = np.zeros((4, 4, m, m))\n",
    "    for i in range(4):\n",
    "        for j in range(4):\n",
    "            P[i, j] = strassen_matrix_multiply(A_sub[i, (i+1) % 4, :, :], B_sub[(j+1) % 4, j, :, :])\n",
    "\n",
    "    C_sub = np.zeros((4, 4, m, m))\n",
    "    C_sub[0, 0] = P[0, 0] + P[3, 2] - P[1, 1] - P[2, 3]\n",
    "    C_sub[0, 1] = P[0, 0] + P[3, 3]\n",
    "    C_sub[1, 0] = P[0, 0] + P[1, 1]\n",
    "    C_sub[1, 1] = P[0, 0] + P[1, 3] - P[2, 2] - P[3, 1]\n",
    "\n",
    "    # Combine submatrices to form the resulting matrix\n",
    "    C = np.vstack((np.hstack((C_sub[0, 0], C_sub[0, 1])), np.hstack((C_sub[1, 0], C_sub[1, 1]))))\n",
    "    return C"
   ]
  },
  {
   "cell_type": "code",
   "execution_count": 26,
   "metadata": {},
   "outputs": [
    {
     "name": "stdout",
     "output_type": "stream",
     "text": [
      "Time taken by standard matrix multiplication: 0.018326 seconds\n",
      "Time taken by Strassen's method: 0.007617 seconds\n"
     ]
    }
   ],
   "source": [
    "# Create random matrices\n",
    "A = np.random.rand(512, 512)\n",
    "B = np.random.rand(512, 512)\n",
    "\n",
    "A.shape, B.shape\n",
    "\n",
    "# Measure time taken by standard matrix multiplication\n",
    "start_time = time.time()\n",
    "C_standard = standard_matrix_multiply(A, B)\n",
    "standard_time = time.time() - start_time\n",
    "\n",
    "# Measure time taken by Strassen's method\n",
    "start_time = time.time()\n",
    "C_strassen = strassen_matrix_multiply(A, B)\n",
    "strassen_time = time.time() - start_time\n",
    "\n",
    "print(\"Time taken by standard matrix multiplication: %.6f seconds\" % standard_time)\n",
    "print(\"Time taken by Strassen's method: %.6f seconds\" % strassen_time)"
   ]
  }
 ],
 "metadata": {
  "kernelspec": {
   "display_name": "base",
   "language": "python",
   "name": "python3"
  },
  "language_info": {
   "codemirror_mode": {
    "name": "ipython",
    "version": 3
   },
   "file_extension": ".py",
   "mimetype": "text/x-python",
   "name": "python",
   "nbconvert_exporter": "python",
   "pygments_lexer": "ipython3",
   "version": "3.11.4"
  }
 },
 "nbformat": 4,
 "nbformat_minor": 2
}
